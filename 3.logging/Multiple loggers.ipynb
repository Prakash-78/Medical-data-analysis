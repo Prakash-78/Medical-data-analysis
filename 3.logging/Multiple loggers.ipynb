{
 "cells": [
  {
   "cell_type": "code",
   "execution_count": 1,
   "id": "a202de5e",
   "metadata": {},
   "outputs": [],
   "source": [
    "import logging"
   ]
  },
  {
   "cell_type": "code",
   "execution_count": 2,
   "id": "9c99cd3d",
   "metadata": {},
   "outputs": [],
   "source": [
    "# Creating logger for module 1\n",
    "logger1 = logging.getLogger('module1')\n",
    "logger1.setLevel(logging.DEBUG)\n",
    "\n",
    "#  Creating logger2 for module 2\n",
    "logger2 = logging.getLogger(\"module2\")\n",
    "logger2.setLevel(logging.WARNING)\n",
    "\n",
    "logging.basicConfig(\n",
    "    level = logging.DEBUG,\n",
    "    format = \"%(asctime)s -%(name)s - %(levelname)s - %(message)s\",\n",
    "    datefmt=\"%Y-%m-%d %H:%M:%S\"\n",
    ")\n",
    "\n"
   ]
  },
  {
   "cell_type": "code",
   "execution_count": 5,
   "id": "341603c0",
   "metadata": {},
   "outputs": [
    {
     "name": "stderr",
     "output_type": "stream",
     "text": [
      "2025-08-12 16:50:37 -module1 - DEBUG - This is debugging message\n",
      "2025-08-12 16:50:37 -module2 - WARNING - Accessing restricted\n",
      "2025-08-12 16:50:37 -module2 - ERROR - This is error message\n",
      "2025-08-12 16:50:37 -module1 - ERROR - Error occuring\n"
     ]
    }
   ],
   "source": [
    "logger1.debug(\"This is debugging message\")\n",
    "logger2.warning(\"Accessing restricted\")\n",
    "logger2.error(\"This is error message\")\n",
    "logger1.error(\"Error occuring\")"
   ]
  }
 ],
 "metadata": {
  "kernelspec": {
   "display_name": "Python 3",
   "language": "python",
   "name": "python3"
  },
  "language_info": {
   "codemirror_mode": {
    "name": "ipython",
    "version": 3
   },
   "file_extension": ".py",
   "mimetype": "text/x-python",
   "name": "python",
   "nbconvert_exporter": "python",
   "pygments_lexer": "ipython3",
   "version": "3.12.4"
  }
 },
 "nbformat": 4,
 "nbformat_minor": 5
}
