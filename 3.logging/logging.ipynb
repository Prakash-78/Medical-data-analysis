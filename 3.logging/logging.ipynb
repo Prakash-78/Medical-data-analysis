{
 "cells": [
  {
   "cell_type": "markdown",
   "id": "a7109866",
   "metadata": {},
   "source": [
    "# LOG LEVELS\n",
    "\n",
    "Python's logging module has several lpg levels indicating the severity of events.The default levels are:\n",
    "\n",
    "DEBUG   : Detailed information, typically of interest only when diagnosing problems\n",
    "INFO    : Confirmation that things are working as expected\n",
    "\n",
    "WARNING : An indication that something unexpected happened or indicatiove of some problem in the near future. The software is still working as expected\n",
    "\n",
    "ERROR   : Due to more serious problem the software has not been able to perform some action\n",
    "\n",
    "CRITICAL: A very serious error, indicating that the program itself may be unable to continue running\n",
    "\n"
   ]
  },
  {
   "cell_type": "code",
   "execution_count": 1,
   "id": "fa939a90",
   "metadata": {},
   "outputs": [],
   "source": [
    "import logging\n"
   ]
  },
  {
   "cell_type": "code",
   "execution_count": 2,
   "id": "b46159d0",
   "metadata": {},
   "outputs": [],
   "source": [
    "logging.basicConfig(\n",
    "    filename = 'file.log',\n",
    "    filemode= 'w',\n",
    "    level = logging.DEBUG,\n",
    "    format = '%(asctime)s-%(name)s-%(levelname)s-%(message)s',\n",
    "    datefmt = '%Y-%m-%d %H:%M:%S'\n",
    "\n",
    ")\n",
    "\n"
   ]
  },
  {
   "cell_type": "code",
   "execution_count": 3,
   "id": "090c8537",
   "metadata": {},
   "outputs": [],
   "source": [
    "logging.debug(\"This is debugging message\")\n",
    "logging.info(\"This is information message\")\n",
    "logging.warning(\"Warning and restricted\")\n",
    "logging.critical(\"Critical logging\")\n",
    "logging.error(\"Error occured\")\n",
    "\n"
   ]
  },
  {
   "cell_type": "code",
   "execution_count": null,
   "id": "3cd50d22",
   "metadata": {},
   "outputs": [],
   "source": []
  },
  {
   "cell_type": "code",
   "execution_count": null,
   "id": "974c4f64",
   "metadata": {},
   "outputs": [],
   "source": []
  },
  {
   "cell_type": "code",
   "execution_count": null,
   "id": "b2c7aeb1",
   "metadata": {},
   "outputs": [],
   "source": []
  },
  {
   "cell_type": "code",
   "execution_count": null,
   "id": "fa821331",
   "metadata": {},
   "outputs": [],
   "source": []
  }
 ],
 "metadata": {
  "kernelspec": {
   "display_name": "Python 3",
   "language": "python",
   "name": "python3"
  },
  "language_info": {
   "codemirror_mode": {
    "name": "ipython",
    "version": 3
   },
   "file_extension": ".py",
   "mimetype": "text/x-python",
   "name": "python",
   "nbconvert_exporter": "python",
   "pygments_lexer": "ipython3",
   "version": "3.12.4"
  }
 },
 "nbformat": 4,
 "nbformat_minor": 5
}
